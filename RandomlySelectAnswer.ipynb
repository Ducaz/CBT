{
 "cells": [
  {
   "cell_type": "code",
   "execution_count": 96,
   "metadata": {
    "collapsed": false
   },
   "outputs": [
    {
     "name": "stdout",
     "output_type": "stream",
     "text": [
      "Overall Accuracy =  8.88%  (222/2500)\n"
     ]
    }
   ],
   "source": [
    "import re\n",
    "import random\n",
    "\n",
    "filename = 'CBTest\\data\\cbtest_CN_test_2500ex.txt'\n",
    "file = open(filename,'r')\n",
    "RLineNum = re.compile('^\\d+')\n",
    "R21 = re.compile('^\\d+ (.+)\\t+([\\S]+)\\t+([\\S]+)$')\n",
    "i=0\n",
    "CorrectNum = 0\n",
    "AllQuestion = 0\n",
    "for line in file:\n",
    "    #if (i>10000):\n",
    "    #    break\n",
    "    i+=1\n",
    "    mLineNum = RLineNum.search(line)\n",
    "    if(mLineNum):\n",
    "        if(int(mLineNum.group(0)) != 21):\n",
    "            a=0#print('not 21')\n",
    "        else:\n",
    "            #21st sentence\n",
    "            #print(line)\n",
    "            m21 = R21.search(line)\n",
    "            Question = m21.group(1)\n",
    "            #print('Q:',Question)\n",
    "            CorrectAnswer = m21.group(2)\n",
    "            #print('A:',CorrectAnswer)\n",
    "            Candidate = m21.group(3).split('|')\n",
    "            #print('C:',Candidate)\n",
    "            \n",
    "            AllQuestion += 1\n",
    "            Answer = Candidate[random.randint(0, 9)]\n",
    "            \n",
    "            if(Answer == CorrectAnswer):\n",
    "                CorrectNum += 1\n",
    "            #print('%s:%s  Accuracy:%5.2f%%   (%d/%d)' % (CorrectAnswer, Answer, 100*CorrectNum/AllQuestion, CorrectNum, AllQuestion))   \n",
    "    else: \n",
    "        #blank line\n",
    "        a=0\n",
    "        #print('#blank line')\n",
    "file.close()\n",
    "\n",
    "print('Overall Accuracy = %5.2f%%  (%d/%d)' % (100*CorrectNum/AllQuestion, CorrectNum, AllQuestion))"
   ]
  }
 ],
 "metadata": {
  "kernelspec": {
   "display_name": "Python [Root]",
   "language": "python",
   "name": "Python [Root]"
  },
  "language_info": {
   "codemirror_mode": {
    "name": "ipython",
    "version": 3
   },
   "file_extension": ".py",
   "mimetype": "text/x-python",
   "name": "python",
   "nbconvert_exporter": "python",
   "pygments_lexer": "ipython3",
   "version": "3.5.2"
  }
 },
 "nbformat": 4,
 "nbformat_minor": 0
}
